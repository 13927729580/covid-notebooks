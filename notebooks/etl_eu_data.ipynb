{
 "cells": [
  {
   "cell_type": "code",
   "execution_count": 8,
   "metadata": {},
   "outputs": [
    {
     "name": "stdout",
     "output_type": "stream",
     "text": [
      "Requirement already satisfied: botocore in /Users/romeokienzler/opt/anaconda3/envs/tf2.0/lib/python3.7/site-packages (1.15.39)\n",
      "Requirement already satisfied: urllib3<1.26,>=1.20 in /Users/romeokienzler/opt/anaconda3/envs/tf2.0/lib/python3.7/site-packages (from botocore) (1.24.2)\n",
      "Requirement already satisfied: python-dateutil<3.0.0,>=2.1 in /Users/romeokienzler/opt/anaconda3/envs/tf2.0/lib/python3.7/site-packages (from botocore) (2.8.1)\n",
      "Requirement already satisfied: jmespath<1.0.0,>=0.7.1 in /Users/romeokienzler/opt/anaconda3/envs/tf2.0/lib/python3.7/site-packages (from botocore) (0.9.5)\n",
      "Requirement already satisfied: docutils<0.16,>=0.10 in /Users/romeokienzler/opt/anaconda3/envs/tf2.0/lib/python3.7/site-packages (from botocore) (0.15.2)\n",
      "Requirement already satisfied: six>=1.5 in /Users/romeokienzler/opt/anaconda3/envs/tf2.0/lib/python3.7/site-packages (from python-dateutil<3.0.0,>=2.1->botocore) (1.14.0)\n"
     ]
    }
   ],
   "source": [
    "!pip install botocore"
   ]
  },
  {
   "cell_type": "code",
   "execution_count": 9,
   "metadata": {},
   "outputs": [
    {
     "name": "stdout",
     "output_type": "stream",
     "text": [
      "Requirement already satisfied: ibm-cos-sdk in /Users/romeokienzler/opt/anaconda3/envs/tf2.0/lib/python3.7/site-packages (2.6.2)\n",
      "Requirement already satisfied: ibm-cos-sdk-s3transfer==2.6.2 in /Users/romeokienzler/opt/anaconda3/envs/tf2.0/lib/python3.7/site-packages (from ibm-cos-sdk) (2.6.2)\n",
      "Requirement already satisfied: jmespath<1.0.0,>=0.7.1 in /Users/romeokienzler/opt/anaconda3/envs/tf2.0/lib/python3.7/site-packages (from ibm-cos-sdk) (0.9.5)\n",
      "Requirement already satisfied: ibm-cos-sdk-core==2.6.2 in /Users/romeokienzler/opt/anaconda3/envs/tf2.0/lib/python3.7/site-packages (from ibm-cos-sdk) (2.6.2)\n",
      "Requirement already satisfied: python-dateutil<3.0.0,>=2.1 in /Users/romeokienzler/opt/anaconda3/envs/tf2.0/lib/python3.7/site-packages (from ibm-cos-sdk-core==2.6.2->ibm-cos-sdk) (2.8.1)\n",
      "Requirement already satisfied: requests<3.0,>=2.18 in /Users/romeokienzler/opt/anaconda3/envs/tf2.0/lib/python3.7/site-packages (from ibm-cos-sdk-core==2.6.2->ibm-cos-sdk) (2.23.0)\n",
      "Requirement already satisfied: docutils<0.16,>=0.10 in /Users/romeokienzler/opt/anaconda3/envs/tf2.0/lib/python3.7/site-packages (from ibm-cos-sdk-core==2.6.2->ibm-cos-sdk) (0.15.2)\n",
      "Requirement already satisfied: six>=1.5 in /Users/romeokienzler/opt/anaconda3/envs/tf2.0/lib/python3.7/site-packages (from python-dateutil<3.0.0,>=2.1->ibm-cos-sdk-core==2.6.2->ibm-cos-sdk) (1.14.0)\n",
      "Requirement already satisfied: certifi>=2017.4.17 in /Users/romeokienzler/opt/anaconda3/envs/tf2.0/lib/python3.7/site-packages (from requests<3.0,>=2.18->ibm-cos-sdk-core==2.6.2->ibm-cos-sdk) (2020.4.5.1)\n",
      "Requirement already satisfied: idna<3,>=2.5 in /Users/romeokienzler/opt/anaconda3/envs/tf2.0/lib/python3.7/site-packages (from requests<3.0,>=2.18->ibm-cos-sdk-core==2.6.2->ibm-cos-sdk) (2.9)\n",
      "Requirement already satisfied: urllib3!=1.25.0,!=1.25.1,<1.26,>=1.21.1 in /Users/romeokienzler/opt/anaconda3/envs/tf2.0/lib/python3.7/site-packages (from requests<3.0,>=2.18->ibm-cos-sdk-core==2.6.2->ibm-cos-sdk) (1.24.2)\n",
      "Requirement already satisfied: chardet<4,>=3.0.2 in /Users/romeokienzler/opt/anaconda3/envs/tf2.0/lib/python3.7/site-packages (from requests<3.0,>=2.18->ibm-cos-sdk-core==2.6.2->ibm-cos-sdk) (3.0.4)\n"
     ]
    }
   ],
   "source": [
    "!pip install ibm-cos-sdk"
   ]
  },
  {
   "cell_type": "code",
   "execution_count": null,
   "metadata": {},
   "outputs": [
    {
     "name": "stdout",
     "output_type": "stream",
     "text": [
      "Requirement already satisfied: xlrd in /Users/romeokienzler/opt/anaconda3/envs/tf2.0/lib/python3.7/site-packages (1.2.0)\n"
     ]
    }
   ],
   "source": [
    "!pip install xlrd"
   ]
  },
  {
   "cell_type": "code",
   "execution_count": 19,
   "metadata": {},
   "outputs": [],
   "source": [
    "\n",
    "import types\n",
    "import pandas as pd\n",
    "from botocore.client import Config\n",
    "import ibm_boto3\n",
    "\n",
    "def __iter__(self): return 0\n",
    "\n",
    "\n",
    "client = ibm_boto3.client(service_name='s3',\n",
    "    ibm_api_key_id='xxx',\n",
    "    ibm_auth_endpoint=\"https://iam.ng.bluemix.net/oidc/token\",\n",
    "    config=Config(signature_version='oauth'),\n",
    "    endpoint_url='https://s3.us.cloud-object-storage.appdomain.cloud')\n",
    "bucket='project202002-donotdelete-pr-xevxxb7noauffh'"
   ]
  },
  {
   "cell_type": "code",
   "execution_count": 11,
   "metadata": {},
   "outputs": [
    {
     "name": "stdout",
     "output_type": "stream",
     "text": [
      "--2020-04-23 13:19:51--  http://api.worldbank.org/v2/en/indicator/SP.POP.TOTL?downloadformat=csv\n",
      "Aufl\"osen des Hostnamens api.worldbank.org (api.worldbank.org)... 34.237.118.134\n",
      "Verbindungsaufbau zu api.worldbank.org (api.worldbank.org)|34.237.118.134|:80 ... verbunden.\n",
      "HTTP-Anforderung gesendet, auf Antwort wird gewartet ... 200 OK\n",
      "L\"ange: 78803 (77K) [application/zip]\n",
      "Wird in >>SP.POP.TOTL?downloadformat=csv<< gespeichert.\n",
      "\n",
      "SP.POP.TOTL?downloa 100%[===================>]  76.96K   339KB/s    in 0.2s    \n",
      "\n",
      "2020-04-23 13:19:52 (339 KB/s) - >>SP.POP.TOTL?downloadformat=csv<< gespeichert [78803/78803]\n",
      "\n",
      "Archive:  SP.POP.TOTL?downloadformat=csv\n",
      "  inflating: Metadata_Indicator_API_SP.POP.TOTL_DS2_en_csv_v2_988606.csv  \n",
      "  inflating: API_SP.POP.TOTL_DS2_en_csv_v2_988606.csv  \n",
      "  inflating: Metadata_Country_API_SP.POP.TOTL_DS2_en_csv_v2_988606.csv  \n",
      "tail: API_SP.POP.TOTL_DS2_en_csv_v2_936048.csv: No such file or directory\n"
     ]
    }
   ],
   "source": [
    "#get world's population data\n",
    "#!rm -f SP.POP.TOTL?downloadformat=csv\n",
    "#!rm -f API_SP.POP.TOTL_DS2_en_csv_v2_936048.csv\n",
    "#!rm -f Metadata_Country_API_SP.POP.TOTL_DS2_en_csv_v2_936048.csv\n",
    "#!rm -f Metadata_Indicator_API_SP.POP.TOTL_DS2_en_csv_v2_936048.csv\n",
    "#!wget http://api.worldbank.org/v2/en/indicator/SP.POP.TOTL?downloadformat=csv\n",
    "#!unzip SP.POP.TOTL?downloadformat=csv\n",
    "#!tail -n +5 API_SP.POP.TOTL_DS2_en_csv_v2_936048.csv > pop.csv"
   ]
  },
  {
   "cell_type": "code",
   "execution_count": 12,
   "metadata": {},
   "outputs": [],
   "source": [
    "#client.upload_file(Filename='pop.csv',Bucket=bucket,Key='pop.csv')"
   ]
  },
  {
   "cell_type": "code",
   "execution_count": 13,
   "metadata": {},
   "outputs": [
    {
     "ename": "EmptyDataError",
     "evalue": "No columns to parse from file",
     "output_type": "error",
     "traceback": [
      "\u001b[0;31m---------------------------------------------------------------------------\u001b[0m",
      "\u001b[0;31mEmptyDataError\u001b[0m                            Traceback (most recent call last)",
      "\u001b[0;32m<ipython-input-13-0082dd3b81f8>\u001b[0m in \u001b[0;36m<module>\u001b[0;34m\u001b[0m\n\u001b[0;32m----> 1\u001b[0;31m \u001b[0mdf_pop\u001b[0m\u001b[0;34m=\u001b[0m\u001b[0mpd\u001b[0m\u001b[0;34m.\u001b[0m\u001b[0mread_csv\u001b[0m\u001b[0;34m(\u001b[0m\u001b[0;34m\"pop.csv\"\u001b[0m\u001b[0;34m)\u001b[0m\u001b[0;34m\u001b[0m\u001b[0;34m\u001b[0m\u001b[0m\n\u001b[0m",
      "\u001b[0;32m~/opt/anaconda3/envs/tf2.0/lib/python3.7/site-packages/pandas/io/parsers.py\u001b[0m in \u001b[0;36mparser_f\u001b[0;34m(filepath_or_buffer, sep, delimiter, header, names, index_col, usecols, squeeze, prefix, mangle_dupe_cols, dtype, engine, converters, true_values, false_values, skipinitialspace, skiprows, skipfooter, nrows, na_values, keep_default_na, na_filter, verbose, skip_blank_lines, parse_dates, infer_datetime_format, keep_date_col, date_parser, dayfirst, cache_dates, iterator, chunksize, compression, thousands, decimal, lineterminator, quotechar, quoting, doublequote, escapechar, comment, encoding, dialect, error_bad_lines, warn_bad_lines, delim_whitespace, low_memory, memory_map, float_precision)\u001b[0m\n\u001b[1;32m    674\u001b[0m         )\n\u001b[1;32m    675\u001b[0m \u001b[0;34m\u001b[0m\u001b[0m\n\u001b[0;32m--> 676\u001b[0;31m         \u001b[0;32mreturn\u001b[0m \u001b[0m_read\u001b[0m\u001b[0;34m(\u001b[0m\u001b[0mfilepath_or_buffer\u001b[0m\u001b[0;34m,\u001b[0m \u001b[0mkwds\u001b[0m\u001b[0;34m)\u001b[0m\u001b[0;34m\u001b[0m\u001b[0;34m\u001b[0m\u001b[0m\n\u001b[0m\u001b[1;32m    677\u001b[0m \u001b[0;34m\u001b[0m\u001b[0m\n\u001b[1;32m    678\u001b[0m     \u001b[0mparser_f\u001b[0m\u001b[0;34m.\u001b[0m\u001b[0m__name__\u001b[0m \u001b[0;34m=\u001b[0m \u001b[0mname\u001b[0m\u001b[0;34m\u001b[0m\u001b[0;34m\u001b[0m\u001b[0m\n",
      "\u001b[0;32m~/opt/anaconda3/envs/tf2.0/lib/python3.7/site-packages/pandas/io/parsers.py\u001b[0m in \u001b[0;36m_read\u001b[0;34m(filepath_or_buffer, kwds)\u001b[0m\n\u001b[1;32m    446\u001b[0m \u001b[0;34m\u001b[0m\u001b[0m\n\u001b[1;32m    447\u001b[0m     \u001b[0;31m# Create the parser.\u001b[0m\u001b[0;34m\u001b[0m\u001b[0;34m\u001b[0m\u001b[0;34m\u001b[0m\u001b[0m\n\u001b[0;32m--> 448\u001b[0;31m     \u001b[0mparser\u001b[0m \u001b[0;34m=\u001b[0m \u001b[0mTextFileReader\u001b[0m\u001b[0;34m(\u001b[0m\u001b[0mfp_or_buf\u001b[0m\u001b[0;34m,\u001b[0m \u001b[0;34m**\u001b[0m\u001b[0mkwds\u001b[0m\u001b[0;34m)\u001b[0m\u001b[0;34m\u001b[0m\u001b[0;34m\u001b[0m\u001b[0m\n\u001b[0m\u001b[1;32m    449\u001b[0m \u001b[0;34m\u001b[0m\u001b[0m\n\u001b[1;32m    450\u001b[0m     \u001b[0;32mif\u001b[0m \u001b[0mchunksize\u001b[0m \u001b[0;32mor\u001b[0m \u001b[0miterator\u001b[0m\u001b[0;34m:\u001b[0m\u001b[0;34m\u001b[0m\u001b[0;34m\u001b[0m\u001b[0m\n",
      "\u001b[0;32m~/opt/anaconda3/envs/tf2.0/lib/python3.7/site-packages/pandas/io/parsers.py\u001b[0m in \u001b[0;36m__init__\u001b[0;34m(self, f, engine, **kwds)\u001b[0m\n\u001b[1;32m    878\u001b[0m             \u001b[0mself\u001b[0m\u001b[0;34m.\u001b[0m\u001b[0moptions\u001b[0m\u001b[0;34m[\u001b[0m\u001b[0;34m\"has_index_names\"\u001b[0m\u001b[0;34m]\u001b[0m \u001b[0;34m=\u001b[0m \u001b[0mkwds\u001b[0m\u001b[0;34m[\u001b[0m\u001b[0;34m\"has_index_names\"\u001b[0m\u001b[0;34m]\u001b[0m\u001b[0;34m\u001b[0m\u001b[0;34m\u001b[0m\u001b[0m\n\u001b[1;32m    879\u001b[0m \u001b[0;34m\u001b[0m\u001b[0m\n\u001b[0;32m--> 880\u001b[0;31m         \u001b[0mself\u001b[0m\u001b[0;34m.\u001b[0m\u001b[0m_make_engine\u001b[0m\u001b[0;34m(\u001b[0m\u001b[0mself\u001b[0m\u001b[0;34m.\u001b[0m\u001b[0mengine\u001b[0m\u001b[0;34m)\u001b[0m\u001b[0;34m\u001b[0m\u001b[0;34m\u001b[0m\u001b[0m\n\u001b[0m\u001b[1;32m    881\u001b[0m \u001b[0;34m\u001b[0m\u001b[0m\n\u001b[1;32m    882\u001b[0m     \u001b[0;32mdef\u001b[0m \u001b[0mclose\u001b[0m\u001b[0;34m(\u001b[0m\u001b[0mself\u001b[0m\u001b[0;34m)\u001b[0m\u001b[0;34m:\u001b[0m\u001b[0;34m\u001b[0m\u001b[0;34m\u001b[0m\u001b[0m\n",
      "\u001b[0;32m~/opt/anaconda3/envs/tf2.0/lib/python3.7/site-packages/pandas/io/parsers.py\u001b[0m in \u001b[0;36m_make_engine\u001b[0;34m(self, engine)\u001b[0m\n\u001b[1;32m   1112\u001b[0m     \u001b[0;32mdef\u001b[0m \u001b[0m_make_engine\u001b[0m\u001b[0;34m(\u001b[0m\u001b[0mself\u001b[0m\u001b[0;34m,\u001b[0m \u001b[0mengine\u001b[0m\u001b[0;34m=\u001b[0m\u001b[0;34m\"c\"\u001b[0m\u001b[0;34m)\u001b[0m\u001b[0;34m:\u001b[0m\u001b[0;34m\u001b[0m\u001b[0;34m\u001b[0m\u001b[0m\n\u001b[1;32m   1113\u001b[0m         \u001b[0;32mif\u001b[0m \u001b[0mengine\u001b[0m \u001b[0;34m==\u001b[0m \u001b[0;34m\"c\"\u001b[0m\u001b[0;34m:\u001b[0m\u001b[0;34m\u001b[0m\u001b[0;34m\u001b[0m\u001b[0m\n\u001b[0;32m-> 1114\u001b[0;31m             \u001b[0mself\u001b[0m\u001b[0;34m.\u001b[0m\u001b[0m_engine\u001b[0m \u001b[0;34m=\u001b[0m \u001b[0mCParserWrapper\u001b[0m\u001b[0;34m(\u001b[0m\u001b[0mself\u001b[0m\u001b[0;34m.\u001b[0m\u001b[0mf\u001b[0m\u001b[0;34m,\u001b[0m \u001b[0;34m**\u001b[0m\u001b[0mself\u001b[0m\u001b[0;34m.\u001b[0m\u001b[0moptions\u001b[0m\u001b[0;34m)\u001b[0m\u001b[0;34m\u001b[0m\u001b[0;34m\u001b[0m\u001b[0m\n\u001b[0m\u001b[1;32m   1115\u001b[0m         \u001b[0;32melse\u001b[0m\u001b[0;34m:\u001b[0m\u001b[0;34m\u001b[0m\u001b[0;34m\u001b[0m\u001b[0m\n\u001b[1;32m   1116\u001b[0m             \u001b[0;32mif\u001b[0m \u001b[0mengine\u001b[0m \u001b[0;34m==\u001b[0m \u001b[0;34m\"python\"\u001b[0m\u001b[0;34m:\u001b[0m\u001b[0;34m\u001b[0m\u001b[0;34m\u001b[0m\u001b[0m\n",
      "\u001b[0;32m~/opt/anaconda3/envs/tf2.0/lib/python3.7/site-packages/pandas/io/parsers.py\u001b[0m in \u001b[0;36m__init__\u001b[0;34m(self, src, **kwds)\u001b[0m\n\u001b[1;32m   1889\u001b[0m         \u001b[0mkwds\u001b[0m\u001b[0;34m[\u001b[0m\u001b[0;34m\"usecols\"\u001b[0m\u001b[0;34m]\u001b[0m \u001b[0;34m=\u001b[0m \u001b[0mself\u001b[0m\u001b[0;34m.\u001b[0m\u001b[0musecols\u001b[0m\u001b[0;34m\u001b[0m\u001b[0;34m\u001b[0m\u001b[0m\n\u001b[1;32m   1890\u001b[0m \u001b[0;34m\u001b[0m\u001b[0m\n\u001b[0;32m-> 1891\u001b[0;31m         \u001b[0mself\u001b[0m\u001b[0;34m.\u001b[0m\u001b[0m_reader\u001b[0m \u001b[0;34m=\u001b[0m \u001b[0mparsers\u001b[0m\u001b[0;34m.\u001b[0m\u001b[0mTextReader\u001b[0m\u001b[0;34m(\u001b[0m\u001b[0msrc\u001b[0m\u001b[0;34m,\u001b[0m \u001b[0;34m**\u001b[0m\u001b[0mkwds\u001b[0m\u001b[0;34m)\u001b[0m\u001b[0;34m\u001b[0m\u001b[0;34m\u001b[0m\u001b[0m\n\u001b[0m\u001b[1;32m   1892\u001b[0m         \u001b[0mself\u001b[0m\u001b[0;34m.\u001b[0m\u001b[0munnamed_cols\u001b[0m \u001b[0;34m=\u001b[0m \u001b[0mself\u001b[0m\u001b[0;34m.\u001b[0m\u001b[0m_reader\u001b[0m\u001b[0;34m.\u001b[0m\u001b[0munnamed_cols\u001b[0m\u001b[0;34m\u001b[0m\u001b[0;34m\u001b[0m\u001b[0m\n\u001b[1;32m   1893\u001b[0m \u001b[0;34m\u001b[0m\u001b[0m\n",
      "\u001b[0;32mpandas/_libs/parsers.pyx\u001b[0m in \u001b[0;36mpandas._libs.parsers.TextReader.__cinit__\u001b[0;34m()\u001b[0m\n",
      "\u001b[0;31mEmptyDataError\u001b[0m: No columns to parse from file"
     ]
    }
   ],
   "source": [
    "#df_pop=pd.read_csv(\"pop.csv\")\n"
   ]
  },
  {
   "cell_type": "code",
   "execution_count": 15,
   "metadata": {},
   "outputs": [
    {
     "data": {
      "text/plain": [
       "'https://www.ecdc.europa.eu/sites/default/files/documents/COVID-19-geographic-disbtribution-worldwide-2020-04-23.xlsx'"
      ]
     },
     "execution_count": 15,
     "metadata": {},
     "output_type": "execute_result"
    }
   ],
   "source": [
    "from datetime import date, timedelta\n",
    "import requests\n",
    "\n",
    "today = date.today()\n",
    "def url_exists(url):\n",
    "    resp = requests.head(url)\n",
    "    return resp.status_code == 200\n",
    "\n",
    "for into_past in range(5):\n",
    "    today = str(date.today() - timedelta(days=into_past))\n",
    "    url = 'https://www.ecdc.europa.eu/sites/default/files/documents/COVID-19-geographic-disbtribution-worldwide-'+today+'.xlsx'\n",
    "    if not url_exists(url):\n",
    "        print('Data unavailable, diggin %s days into past' % (into_past+1))\n",
    "    else:\n",
    "        break\n",
    "\n",
    "url"
   ]
  },
  {
   "cell_type": "code",
   "execution_count": 16,
   "metadata": {},
   "outputs": [],
   "source": [
    "import pandas as pd\n",
    "df_raw =pd.read_excel(url)\n"
   ]
  },
  {
   "cell_type": "code",
   "execution_count": null,
   "metadata": {},
   "outputs": [],
   "source": [
    "#group_by_deaths = df_raw.groupby(['countriesAndTerritories']).sum()['deaths']\n",
    "#bad_countries = list(group_by_deaths[group_by_deaths>100].index)\n",
    "#df_raw = df_raw[df_raw['countriesAndTerritories'].isin(bad_countries)]\n",
    "#country_names = df_raw['countriesAndTerritories'].unique()\n",
    "#pop_coutry_names = df_pop['Country Name'].unique()\n",
    "#print([x for x in country_names if x not in pop_coutry_names])\n",
    "\n",
    "#df_pop = df_pop.replace('Iran, Islamic Rep.','Iran')\n",
    "#df_pop = df_pop.replace('Korea, Rep.','South_Korea')\n",
    "#df_pop = df_pop.replace('United Kingdom','United_Kingdom')\n",
    "#df_pop = df_pop.replace('United States','United_States_of_America')\n",
    "#df_pop = df_pop.replace('Dominican Republic','Dominican_Republic')\n",
    "#df_pop = df_pop.replace('Czech Republic','Czechia')\n",
    "#df_pop = df_pop.replace('Russian Federation','Russia')\n",
    "#df_pop = df_pop.replace('Egypt, Arab Rep.','Egypt')\n",
    "\n",
    "\n",
    "\n",
    "\n",
    "\n",
    "\n",
    "##pop_coutry_names = df_pop['Country Name'].unique()\n",
    "#assert len([x for x in country_names if x not in pop_coutry_names]) == 0, 'ETL error, not all country names matching: '+str([x for x in country_names if x not in pop_coutry_names])"
   ]
  },
  {
   "cell_type": "code",
   "execution_count": null,
   "metadata": {},
   "outputs": [],
   "source": [
    "#df_pop=df_pop.rename(columns={'Country Name': 'countriesAndTerritories'})\n",
    "\n",
    "#df_raw = pd.merge(df_raw, df_pop, on='countriesAndTerritories', how='inner')"
   ]
  },
  {
   "cell_type": "code",
   "execution_count": 17,
   "metadata": {},
   "outputs": [],
   "source": [
    "df_raw.to_csv('cases.csv')"
   ]
  },
  {
   "cell_type": "code",
   "execution_count": 18,
   "metadata": {},
   "outputs": [],
   "source": [
    "client.upload_file(Filename='cases.csv',Bucket=bucket,Key='cases.csv')"
   ]
  }
 ],
 "metadata": {
  "kernelspec": {
   "display_name": "Python 3",
   "language": "python",
   "name": "python3"
  },
  "language_info": {
   "codemirror_mode": {
    "name": "ipython",
    "version": 3
   },
   "file_extension": ".py",
   "mimetype": "text/x-python",
   "name": "python",
   "nbconvert_exporter": "python",
   "pygments_lexer": "ipython3",
   "version": "3.7.6"
  }
 },
 "nbformat": 4,
 "nbformat_minor": 4
}
