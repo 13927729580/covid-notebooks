{
 "cells": [
  {
   "cell_type": "code",
   "execution_count": 8,
   "metadata": {},
   "outputs": [
    {
     "name": "stdout",
     "output_type": "stream",
     "text": [
      "Requirement already satisfied: botocore in /Users/romeokienzler/opt/anaconda3/envs/tf2.0/lib/python3.7/site-packages (1.15.39)\n",
      "Requirement already satisfied: python-dateutil<3.0.0,>=2.1 in /Users/romeokienzler/opt/anaconda3/envs/tf2.0/lib/python3.7/site-packages (from botocore) (2.8.1)\n",
      "Requirement already satisfied: urllib3<1.26,>=1.20 in /Users/romeokienzler/opt/anaconda3/envs/tf2.0/lib/python3.7/site-packages (from botocore) (1.24.2)\n",
      "Requirement already satisfied: jmespath<1.0.0,>=0.7.1 in /Users/romeokienzler/opt/anaconda3/envs/tf2.0/lib/python3.7/site-packages (from botocore) (0.9.5)\n",
      "Requirement already satisfied: docutils<0.16,>=0.10 in /Users/romeokienzler/opt/anaconda3/envs/tf2.0/lib/python3.7/site-packages (from botocore) (0.15.2)\n",
      "Requirement already satisfied: six>=1.5 in /Users/romeokienzler/opt/anaconda3/envs/tf2.0/lib/python3.7/site-packages (from python-dateutil<3.0.0,>=2.1->botocore) (1.14.0)\n"
     ]
    }
   ],
   "source": [
    "!pip install botocore"
   ]
  },
  {
   "cell_type": "code",
   "execution_count": 9,
   "metadata": {},
   "outputs": [
    {
     "name": "stdout",
     "output_type": "stream",
     "text": [
      "Requirement already satisfied: ibm-cos-sdk in /Users/romeokienzler/opt/anaconda3/envs/tf2.0/lib/python3.7/site-packages (2.6.2)\n",
      "Requirement already satisfied: ibm-cos-sdk-core==2.6.2 in /Users/romeokienzler/opt/anaconda3/envs/tf2.0/lib/python3.7/site-packages (from ibm-cos-sdk) (2.6.2)\n",
      "Requirement already satisfied: jmespath<1.0.0,>=0.7.1 in /Users/romeokienzler/opt/anaconda3/envs/tf2.0/lib/python3.7/site-packages (from ibm-cos-sdk) (0.9.5)\n",
      "Requirement already satisfied: ibm-cos-sdk-s3transfer==2.6.2 in /Users/romeokienzler/opt/anaconda3/envs/tf2.0/lib/python3.7/site-packages (from ibm-cos-sdk) (2.6.2)\n",
      "Requirement already satisfied: docutils<0.16,>=0.10 in /Users/romeokienzler/opt/anaconda3/envs/tf2.0/lib/python3.7/site-packages (from ibm-cos-sdk-core==2.6.2->ibm-cos-sdk) (0.15.2)\n",
      "Requirement already satisfied: python-dateutil<3.0.0,>=2.1 in /Users/romeokienzler/opt/anaconda3/envs/tf2.0/lib/python3.7/site-packages (from ibm-cos-sdk-core==2.6.2->ibm-cos-sdk) (2.8.1)\n",
      "Requirement already satisfied: requests<3.0,>=2.18 in /Users/romeokienzler/opt/anaconda3/envs/tf2.0/lib/python3.7/site-packages (from ibm-cos-sdk-core==2.6.2->ibm-cos-sdk) (2.23.0)\n",
      "Requirement already satisfied: six>=1.5 in /Users/romeokienzler/opt/anaconda3/envs/tf2.0/lib/python3.7/site-packages (from python-dateutil<3.0.0,>=2.1->ibm-cos-sdk-core==2.6.2->ibm-cos-sdk) (1.14.0)\n",
      "Requirement already satisfied: certifi>=2017.4.17 in /Users/romeokienzler/opt/anaconda3/envs/tf2.0/lib/python3.7/site-packages (from requests<3.0,>=2.18->ibm-cos-sdk-core==2.6.2->ibm-cos-sdk) (2020.4.5.1)\n",
      "Requirement already satisfied: idna<3,>=2.5 in /Users/romeokienzler/opt/anaconda3/envs/tf2.0/lib/python3.7/site-packages (from requests<3.0,>=2.18->ibm-cos-sdk-core==2.6.2->ibm-cos-sdk) (2.9)\n",
      "Requirement already satisfied: urllib3!=1.25.0,!=1.25.1,<1.26,>=1.21.1 in /Users/romeokienzler/opt/anaconda3/envs/tf2.0/lib/python3.7/site-packages (from requests<3.0,>=2.18->ibm-cos-sdk-core==2.6.2->ibm-cos-sdk) (1.24.2)\n",
      "Requirement already satisfied: chardet<4,>=3.0.2 in /Users/romeokienzler/opt/anaconda3/envs/tf2.0/lib/python3.7/site-packages (from requests<3.0,>=2.18->ibm-cos-sdk-core==2.6.2->ibm-cos-sdk) (3.0.4)\n"
     ]
    }
   ],
   "source": [
    "!pip install ibm-cos-sdk"
   ]
  },
  {
   "cell_type": "code",
   "execution_count": 1,
   "metadata": {},
   "outputs": [],
   "source": [
    "\n",
    "import types\n",
    "import pandas as pd\n",
    "from botocore.client import Config\n",
    "import ibm_boto3\n",
    "\n",
    "def __iter__(self): return 0\n",
    "\n",
    "\n",
    "client = ibm_boto3.client(service_name='s3',\n",
    "    ibm_api_key_id='xxx',\n",
    "    ibm_auth_endpoint=\"https://iam.ng.bluemix.net/oidc/token\",\n",
    "    config=Config(signature_version='oauth'),\n",
    "    endpoint_url='https://s3.us.cloud-object-storage.appdomain.cloud')\n",
    "bucket='project202002-donotdelete-pr-xevxxb7noauffh'"
   ]
  },
  {
   "cell_type": "code",
   "execution_count": 2,
   "metadata": {},
   "outputs": [],
   "source": [
    "client.download_file(Bucket=bucket,Key='cases.csv',Filename='cases.csv')"
   ]
  },
  {
   "cell_type": "code",
   "execution_count": 3,
   "metadata": {},
   "outputs": [],
   "source": [
    "df_raw = pd.read_csv('cases.csv')"
   ]
  },
  {
   "cell_type": "code",
   "execution_count": 5,
   "metadata": {},
   "outputs": [
    {
     "data": {
      "text/plain": [
       "['Andorra',\n",
       " 'Antigua_and_Barbuda',\n",
       " 'Aruba',\n",
       " 'Austria',\n",
       " 'Bahamas',\n",
       " 'Barbados',\n",
       " 'Belgium',\n",
       " 'Bermuda',\n",
       " 'Bosnia_and_Herzegovina',\n",
       " 'Brazil',\n",
       " 'British_Virgin_Islands',\n",
       " 'Canada',\n",
       " 'Cases_on_an_international_conveyance_Japan',\n",
       " 'Cayman_Islands',\n",
       " 'Croatia',\n",
       " 'Cyprus',\n",
       " 'Czechia',\n",
       " 'Denmark',\n",
       " 'Dominican_Republic',\n",
       " 'Ecuador',\n",
       " 'Estonia',\n",
       " 'Finland',\n",
       " 'France',\n",
       " 'Germany',\n",
       " 'Gibraltar',\n",
       " 'Greece',\n",
       " 'Guam',\n",
       " 'Guernsey',\n",
       " 'Hungary',\n",
       " 'Iceland',\n",
       " 'Iran',\n",
       " 'Ireland',\n",
       " 'Isle_of_Man',\n",
       " 'Israel',\n",
       " 'Italy',\n",
       " 'Jersey',\n",
       " 'Liechtenstein',\n",
       " 'Lithuania',\n",
       " 'Luxembourg',\n",
       " 'Moldova',\n",
       " 'Monaco',\n",
       " 'Netherlands',\n",
       " 'North_Macedonia',\n",
       " 'Northern_Mariana_Islands',\n",
       " 'Norway',\n",
       " 'Panama',\n",
       " 'Peru',\n",
       " 'Poland',\n",
       " 'Portugal',\n",
       " 'Puerto_Rico',\n",
       " 'Romania',\n",
       " 'San_Marino',\n",
       " 'Serbia',\n",
       " 'Sint_Maarten',\n",
       " 'Slovenia',\n",
       " 'Spain',\n",
       " 'Sweden',\n",
       " 'Switzerland',\n",
       " 'Turkey',\n",
       " 'Turks_and_Caicos_islands',\n",
       " 'United_Kingdom',\n",
       " 'United_States_Virgin_Islands',\n",
       " 'United_States_of_America']"
      ]
     },
     "execution_count": 5,
     "metadata": {},
     "output_type": "execute_result"
    }
   ],
   "source": [
    "window_size = 10\n",
    "\n",
    "df = df_raw\n",
    "\n",
    "#df = df[df['countriesAndTerritories']=='Italy']\n",
    "\n",
    "df = df.sort_values(['year', 'month' ,'day'], ascending=[1, 1, 1])\n",
    "\n",
    "df['ts'] = pd.to_datetime(df[['year', 'month' ,'day']])\n",
    "\n",
    "df['increase_cases'] = df.cases - df.cases.shift(1)\n",
    "\n",
    "df['increase_ratio'] = df.cases / df.cases.shift(1)\n",
    "\n",
    "df['cases_estimated'] = df.deaths*100\n",
    "\n",
    "df['total_cases_estimated'] = df['cases_estimated'].cumsum()\n",
    "\n",
    "df['percentage_infected'] = 100/df[\"popData2018\"]*df['total_cases_estimated']\n",
    "\n",
    "df['percentage_died'] = 100/df[\"popData2018\"]*df['deaths']\n",
    "\n",
    "\n",
    "for i in range(1,window_size+1):\n",
    "    df['cases_'+str(i)+'_days_before'] = df.cases.shift(i)\n",
    "    \n",
    "    \n",
    "for i in range(1,window_size+1):\n",
    "    df['percentage_died_'+str(i)+'_days_before'] = df.percentage_died.shift(i)\n",
    "    \n",
    "        \n",
    "for i in range(1,window_size+1):\n",
    "    df['deaths_'+str(i)+'_days_before'] = df.deaths.shift(i)\n",
    "\n",
    "average = 0\n",
    "for i in range(1,window_size+1):\n",
    "    average = average + df.cases.shift(i)\n",
    "    \n",
    "df['cases_'+str(window_size)+'_day_average'] = average/window_size\n",
    "\n",
    "average = 0\n",
    "for i in range(1,window_size+1):\n",
    "    average = average + df.percentage_died.shift(i)\n",
    "    \n",
    "df['percentage_died_'+str(window_size)+'_day_average'] = average/window_size\n",
    "\n",
    "average = 0\n",
    "for i in range(1,window_size+1):\n",
    "    average = average + df.deaths.shift(i)\n",
    "    \n",
    "df['deaths_'+str(window_size)+'_day_average'] = average/window_size\n",
    "\n",
    "#for i in range(1,window_size+1):\n",
    "#    df = df[df['deaths_'+str(i)+'_days_before']>0]\n",
    "\n",
    "#df = df[df['Cases']>100]\n",
    "\n",
    "\n",
    "#df = df[df['ts']>'2020-04-01']\n",
    "\n",
    "group_by_deaths = df.groupby(['countriesAndTerritories']).sum()['percentage_died']\n",
    "bad_countries = list(group_by_deaths[group_by_deaths>0.001].index)\n",
    "\n",
    "\n",
    "\n",
    "\n",
    "#df = df[df['countriesAndTerritories'].isin(bad_countries)]\n",
    "#df\n",
    "bad_countries\n",
    "\n",
    "\n",
    "#Germany                      1607\n",
    "#Italy                       15253\n",
    "#Netherlands                  1538\n",
    "#Spain                       11570\n",
    "#United_Kingdom               4972\n",
    "#United_States_of_America    10973"
   ]
  },
  {
   "cell_type": "code",
   "execution_count": 6,
   "metadata": {},
   "outputs": [],
   "source": [
    "df.to_csv('cases_features.csv')"
   ]
  },
  {
   "cell_type": "code",
   "execution_count": 7,
   "metadata": {},
   "outputs": [],
   "source": [
    "client.upload_file(Filename='cases_features.csv',Bucket=bucket,Key='cases_features.csv')"
   ]
  },
  {
   "cell_type": "code",
   "execution_count": null,
   "metadata": {},
   "outputs": [],
   "source": []
  }
 ],
 "metadata": {
  "kernelspec": {
   "display_name": "Python 3",
   "language": "python",
   "name": "python3"
  },
  "language_info": {
   "codemirror_mode": {
    "name": "ipython",
    "version": 3
   },
   "file_extension": ".py",
   "mimetype": "text/x-python",
   "name": "python",
   "nbconvert_exporter": "python",
   "pygments_lexer": "ipython3",
   "version": "3.7.6"
  }
 },
 "nbformat": 4,
 "nbformat_minor": 4
}
